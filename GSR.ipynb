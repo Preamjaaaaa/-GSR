{
  "nbformat": 4,
  "nbformat_minor": 0,
  "metadata": {
    "colab": {
      "private_outputs": true,
      "provenance": []
    },
    "kernelspec": {
      "name": "python3",
      "display_name": "Python 3"
    },
    "language_info": {
      "name": "python"
    },
    "accelerator": "GPU",
    "gpuClass": "standard"
  },
  "cells": [
    {
      "cell_type": "code",
      "execution_count": null,
      "metadata": {
        "id": "QlGtZXAWQ0OM"
      },
      "outputs": [],
      "source": [
        "import numpy as np\n",
        "import pandas as pd\n",
        "import matplotlib.pyplot as plt"
      ]
    },
    {
      "cell_type": "code",
      "source": [
        "# Load GSR data from a CSV file\n",
        "gsr_data = pd.read_csv(\"gsr_data.csv\")\n",
        "\n",
        "# Pre-processing the data\n",
        "sampling_frequency = 1000 # Hz\n",
        "time = np.arange(0, len(gsr_data)/sampling_frequency, 1/sampling_frequency)\n",
        "gsr_signal = gsr_data['GSR'].values"
      ],
      "metadata": {
        "id": "kA2bYdUkTWp2"
      },
      "execution_count": null,
      "outputs": []
    },
    {
      "cell_type": "code",
      "source": [
        "# Plot the raw GSR data\n",
        "plt.plot(time, gsr_signal)\n",
        "plt.xlabel('Time (s)')\n",
        "plt.ylabel('GSR (microsiemens)')\n",
        "plt.title('Raw GSR Data')\n",
        "plt.show()"
      ],
      "metadata": {
        "id": "G3ohc8NETcqP"
      },
      "execution_count": null,
      "outputs": []
    },
    {
      "cell_type": "code",
      "source": [
        "# Filter the GSR data to remove noise\n",
        "from scipy.signal import butter, lfilter\n",
        "\n",
        "def butter_lowpass_filter(data, cutoff, fs, order=5):\n",
        "    nyquist = 0.5 * fs\n",
        "    normal_cutoff = cutoff / nyquist\n",
        "    b, a = butter(order, normal_cutoff, btype='low', analog=False)\n",
        "    y = lfilter(b, a, data)\n",
        "    return y\n",
        "\n",
        "filtered_gsr = butter_lowpass_filter(gsr_signal, 5, sampling_frequency)\n",
        "\n",
        "# Plot the filtered GSR data\n",
        "plt.plot(time, filtered_gsr)\n",
        "plt.xlabel('Time (s)')\n",
        "plt.ylabel('GSR (microsiemens)')\n",
        "plt.title('Filtered GSR Data')\n",
        "plt.show()\n",
        "\n",
        "# Save the processed GSR data to a CSV file\n",
        "processed_gsr_data = pd.DataFrame({'Time': time, 'GSR': filtered_gsr})\n",
        "processed_gsr_data.to_csv(\"processed_gsr_data.csv\", index=False)\n"
      ],
      "metadata": {
        "id": "LKz83PWnTfuH"
      },
      "execution_count": null,
      "outputs": []
    }
  ]
}